{
 "cells": [
  {
   "cell_type": "code",
   "execution_count": 5,
   "id": "4f37d8a9",
   "metadata": {},
   "outputs": [
    {
     "name": "stdout",
     "output_type": "stream",
     "text": [
      "<__main__.Person object at 0x0000026FECA51490>\n",
      "Priyanka Pradhan age is 30.\n"
     ]
    }
   ],
   "source": [
    "#Creating a Class and object\n",
    "class Person:\n",
    "    pass\n",
    "Obj_Person = Person() #instantiating the class or creating the Object\n",
    "Obj_Person.name=\"Priyanka\"\n",
    "Obj_Person.surname = \"Pradhan\"\n",
    "Obj_Person.age=30\n",
    "\n",
    "print(Obj_Person) #Object Created\n",
    "print(\"%s %s age is %d.\" % (Obj_Person.name,Obj_Person.surname,Obj_Person.age ))\n",
    "\n",
    "\n",
    "###This Method is not Suggested\n"
   ]
  },
  {
   "cell_type": "raw",
   "id": "ce3547b9",
   "metadata": {},
   "source": []
  }
 ],
 "metadata": {
  "kernelspec": {
   "display_name": "Python 3 (ipykernel)",
   "language": "python",
   "name": "python3"
  },
  "language_info": {
   "codemirror_mode": {
    "name": "ipython",
    "version": 3
   },
   "file_extension": ".py",
   "mimetype": "text/x-python",
   "name": "python",
   "nbconvert_exporter": "python",
   "pygments_lexer": "ipython3",
   "version": "3.9.7"
  }
 },
 "nbformat": 4,
 "nbformat_minor": 5
}
